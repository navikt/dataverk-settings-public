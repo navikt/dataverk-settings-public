{
 "cells": [
  {
   "cell_type": "code",
   "execution_count": 17,
   "metadata": {
    "scrolled": true
   },
   "outputs": [],
   "source": [
    "#export\n",
    "import dataverk as dv"
   ]
  },
  {
   "cell_type": "code",
   "execution_count": 18,
   "metadata": {},
   "outputs": [
    {
     "name": "stdout",
     "output_type": "stream",
     "text": [
      "2019-02-14T10:11:20.483908: B149899 https://data.ssb.no/api/v0/no/table/08771\n"
     ]
    }
   ],
   "source": [
    "#export\n",
    "conn = dv.connectors.JSONStatConnector()\n",
    "df = conn.get_pandas_df('https://data.ssb.no/api/v0/no/table/08771')"
   ]
  },
  {
   "cell_type": "code",
   "execution_count": 19,
   "metadata": {},
   "outputs": [
    {
     "data": {
      "text/html": [
       "<div>\n",
       "<style scoped>\n",
       "    .dataframe tbody tr th:only-of-type {\n",
       "        vertical-align: middle;\n",
       "    }\n",
       "\n",
       "    .dataframe tbody tr th {\n",
       "        vertical-align: top;\n",
       "    }\n",
       "\n",
       "    .dataframe thead th {\n",
       "        text-align: right;\n",
       "    }\n",
       "</style>\n",
       "<table border=\"1\" class=\"dataframe\">\n",
       "  <thead>\n",
       "    <tr style=\"text-align: right;\">\n",
       "      <th></th>\n",
       "      <th>næring (SN2007)</th>\n",
       "      <th>statistikkvariabel</th>\n",
       "      <th>kvartal</th>\n",
       "      <th>value</th>\n",
       "    </tr>\n",
       "  </thead>\n",
       "  <tbody>\n",
       "    <tr>\n",
       "      <th>0</th>\n",
       "      <td>Alle næringar</td>\n",
       "      <td>Ledige stillingar (stillingar)</td>\n",
       "      <td>2010K1</td>\n",
       "      <td>60500.0</td>\n",
       "    </tr>\n",
       "    <tr>\n",
       "      <th>1</th>\n",
       "      <td>Alle næringar</td>\n",
       "      <td>Ledige stillingar (stillingar)</td>\n",
       "      <td>2010K2</td>\n",
       "      <td>67900.0</td>\n",
       "    </tr>\n",
       "    <tr>\n",
       "      <th>2</th>\n",
       "      <td>Alle næringar</td>\n",
       "      <td>Ledige stillingar (stillingar)</td>\n",
       "      <td>2010K3</td>\n",
       "      <td>63900.0</td>\n",
       "    </tr>\n",
       "    <tr>\n",
       "      <th>3</th>\n",
       "      <td>Alle næringar</td>\n",
       "      <td>Ledige stillingar (stillingar)</td>\n",
       "      <td>2010K4</td>\n",
       "      <td>55800.0</td>\n",
       "    </tr>\n",
       "    <tr>\n",
       "      <th>4</th>\n",
       "      <td>Alle næringar</td>\n",
       "      <td>Ledige stillingar (stillingar)</td>\n",
       "      <td>2011K1</td>\n",
       "      <td>68900.0</td>\n",
       "    </tr>\n",
       "  </tbody>\n",
       "</table>\n",
       "</div>"
      ],
      "text/plain": [
       "  næring (SN2007)              statistikkvariabel kvartal    value\n",
       "0   Alle næringar  Ledige stillingar (stillingar)  2010K1  60500.0\n",
       "1   Alle næringar  Ledige stillingar (stillingar)  2010K2  67900.0\n",
       "2   Alle næringar  Ledige stillingar (stillingar)  2010K3  63900.0\n",
       "3   Alle næringar  Ledige stillingar (stillingar)  2010K4  55800.0\n",
       "4   Alle næringar  Ledige stillingar (stillingar)  2011K1  68900.0"
      ]
     },
     "execution_count": 19,
     "metadata": {},
     "output_type": "execute_result"
    }
   ],
   "source": [
    "df.head()"
   ]
  },
  {
   "cell_type": "code",
   "execution_count": 20,
   "metadata": {},
   "outputs": [],
   "source": [
    "#export\n",
    "df_alle = df[(df['næring (SN2007)']=='Alle næringar') & (df['statistikkvariabel']=='Ledige stillingar (stillingar)')]"
   ]
  },
  {
   "cell_type": "code",
   "execution_count": 21,
   "metadata": {},
   "outputs": [],
   "source": [
    "#export\n",
    "\n",
    "dp = dv.Datapackage()"
   ]
  },
  {
   "cell_type": "code",
   "execution_count": 22,
   "metadata": {},
   "outputs": [],
   "source": [
    "#export\n",
    "\n",
    "dp.add_resource(df_alle, dataset_name='Ledige stillinger', dataset_description=\"Antall ledige stillinger pr kvartal\")"
   ]
  },
  {
   "cell_type": "code",
   "execution_count": 23,
   "metadata": {},
   "outputs": [],
   "source": [
    "# export \n",
    "\n",
    "desc = '''\n",
    "## Ledige stillinger\n",
    "\n",
    "Antall stillinger\n",
    "'''\n",
    "\n",
    "dp.add_view(\n",
    "    spec_type='table',\n",
    "    description = desc,\n",
    "    name='Ledige stillinger',\n",
    "    title='Antall ledige stillinger pr kvartal',\n",
    "    resources = 'Ledige stillinger'\n",
    ")"
   ]
  },
  {
   "cell_type": "code",
   "execution_count": 24,
   "metadata": {},
   "outputs": [
    {
     "name": "stdout",
     "output_type": "stream",
     "text": [
      "etl.ipynb converted to etl.py\n"
     ]
    }
   ],
   "source": [
    "#export\n",
    "\n",
    "dp.write_datapackage()"
   ]
  },
  {
   "cell_type": "code",
   "execution_count": null,
   "metadata": {},
   "outputs": [],
   "source": []
  },
  {
   "cell_type": "code",
   "execution_count": null,
   "metadata": {},
   "outputs": [],
   "source": []
  }
 ],
 "metadata": {
  "kernelspec": {
   "display_name": "Python 3",
   "language": "python",
   "name": "python3"
  },
  "language_info": {
   "codemirror_mode": {
    "name": "ipython",
    "version": 3
   },
   "file_extension": ".py",
   "mimetype": "text/x-python",
   "name": "python",
   "nbconvert_exporter": "python",
   "pygments_lexer": "ipython3",
   "version": "3.7.1"
  }
 },
 "nbformat": 4,
 "nbformat_minor": 2
}
